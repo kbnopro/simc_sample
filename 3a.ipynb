{
 "cells": [
  {
   "cell_type": "markdown",
   "metadata": {},
   "source": [
    "<h3> Loading train_data for training models\n"
   ]
  },
  {
   "cell_type": "code",
   "execution_count": 82,
   "metadata": {},
   "outputs": [],
   "source": [
    "# loading data from txt file in JSON format\n",
    "\n",
    "import json\n",
    "\n",
    "train_file = open('train.txt')\n",
    "train_data = json.load(train_file)"
   ]
  },
  {
   "cell_type": "code",
   "execution_count": 83,
   "metadata": {},
   "outputs": [
    {
     "name": "stdout",
     "output_type": "stream",
     "text": [
      "50\n",
      "101\n",
      "[0.0, 0.1, 0.2, 0.30000000000000004, 0.4, 0.5, 0.6000000000000001, 0.7000000000000001, 0.8, 0.9, 1.0, 1.1, 1.2000000000000002, 1.3, 1.4000000000000001, 1.5, 1.6, 1.7000000000000002, 1.8, 1.9000000000000001, 2.0, 2.1, 2.2, 2.3000000000000003, 2.4000000000000004, 2.5, 2.6, 2.7, 2.8000000000000003, 2.9000000000000004, 3.0, 3.1, 3.2, 3.3000000000000003, 3.4000000000000004, 3.5, 3.6, 3.7, 3.8000000000000003, 3.9000000000000004, 4.0, 4.1000000000000005, 4.2, 4.3, 4.4, 4.5, 4.6000000000000005, 4.7, 4.800000000000001, 4.9, 5.0, 5.1000000000000005, 5.2, 5.300000000000001, 5.4, 5.5, 5.6000000000000005, 5.7, 5.800000000000001, 5.9, 6.0, 6.1000000000000005, 6.2, 6.300000000000001, 6.4, 6.5, 6.6000000000000005, 6.7, 6.800000000000001, 6.9, 7.0, 7.1000000000000005, 7.2, 7.300000000000001, 7.4, 7.5, 7.6000000000000005, 7.7, 7.800000000000001, 7.9, 8.0, 8.1, 8.200000000000001, 8.3, 8.4, 8.5, 8.6, 8.700000000000001, 8.8, 8.9, 9.0, 9.1, 9.200000000000001, 9.3, 9.4, 9.5, 9.600000000000001, 9.700000000000001, 9.8, 9.9, 10.0]\n"
     ]
    }
   ],
   "source": [
    "# creating alias for more direct call\n",
    "\n",
    "train_t = train_data['t']\n",
    "train_xs = train_data['c_{XS}']\n",
    "train_x = train_data['c_{X}']\n",
    "train_x_2 = train_data['c_{X_2}']\n",
    "\n",
    "n_exp = len(train_xs)\n",
    "print(n_exp)\n",
    "n_t = len(train_xs[0])\n",
    "print(n_t)\n",
    "print(train_t)\n"
   ]
  },
  {
   "cell_type": "code",
   "execution_count": 84,
   "metadata": {},
   "outputs": [],
   "source": [
    "# plotting C_xs for data identification \n",
    "\n",
    "import matplotlib.pyplot as plt\n",
    "import matplotlib.ticker as ticker\n",
    "import numpy as np\n",
    "\n",
    "\n",
    "for i in range(n_exp):\n",
    "    break \n",
    "    fig, axs = plt.subplots(1,3,figsize=(9,3))\n",
    "    axs[0].set_ylim(0,1)\n",
    "    axs[1].set_ylim(0,1)\n",
    "    axs[2].set_ylim(0,1)\n",
    "    axs[0].plot(train_t,train_x[i])\n",
    "    axs[0].set_title('Quantity of X')\n",
    "    axs[1].plot(train_t,train_xs[i])\n",
    "    axs[1].set_title('Quantity of XS')\n",
    "    axs[2].plot(train_t,train_x_2[i])\n",
    "    axs[2].set_title('Quantity of X_2')\n",
    "    plt.show()\n",
    "\n"
   ]
  },
  {
   "cell_type": "markdown",
   "metadata": {},
   "source": [
    "<h3> Building models\n",
    "\n"
   ]
  },
  {
   "cell_type": "code",
   "execution_count": 85,
   "metadata": {},
   "outputs": [],
   "source": [
    "from torch import nn\n",
    "\n",
    "class FirstModel(nn.Module):\n",
    "    def __init__(self) -> None:\n",
    "        super(FirstModel,self).__init__()\n",
    "        self.linear = nn.Linear(3,3)\n",
    "        self.relu = nn.ReLU()\n",
    "    \n",
    "    def forward(self,x):\n",
    "        x = self.linear(x)\n",
    "        x = self.relu(x)\n",
    "        x = self.linear(x)\n",
    "        x = self.relu(x)\n",
    "        return x \n"
   ]
  },
  {
   "cell_type": "markdown",
   "metadata": {},
   "source": [
    "<h3> Creating dataloaders\n"
   ]
  },
  {
   "cell_type": "code",
   "execution_count": 86,
   "metadata": {},
   "outputs": [],
   "source": [
    "import torch"
   ]
  },
  {
   "cell_type": "code",
   "execution_count": 87,
   "metadata": {},
   "outputs": [
    {
     "name": "stdout",
     "output_type": "stream",
     "text": [
      "3500\n",
      "1500\n"
     ]
    }
   ],
   "source": [
    "data_in , data_out = [] , []\n",
    "\n",
    "for i in range(n_exp):\n",
    "    for j in range(n_t-1):\n",
    "        data_in.append([train_x[i][j],train_xs[i][j],train_x_2[i][j]])\n",
    "        data_out.append([train_x[i][j+1],train_xs[i][j+1],train_x_2[i][j+1]])\n",
    "\n",
    "from sklearn.model_selection import train_test_split\n",
    "\n",
    "\n",
    "\n",
    "data_in = torch.FloatTensor(data_in)\n",
    "data_out = torch.FloatTensor(data_out)\n",
    "\n",
    "train_in , val_in , train_out , val_out = train_test_split(data_in,data_out,test_size=0.3,random_state=42)\n",
    "\n",
    "print(len(train_in))\n",
    "print(len(val_in))\n"
   ]
  },
  {
   "cell_type": "code",
   "execution_count": 88,
   "metadata": {},
   "outputs": [],
   "source": [
    "class Data(torch.utils.data.Dataset):\n",
    "    def __init__(self,inp,out) -> None:\n",
    "        self.x = inp \n",
    "        self.y = out\n",
    "\n",
    "    def __len__(self):\n",
    "        return len(self.x)\n",
    "\n",
    "    def __getitem__(self,idx):\n",
    "        return self.x[idx] , self.y[idx]"
   ]
  },
  {
   "cell_type": "code",
   "execution_count": 89,
   "metadata": {},
   "outputs": [],
   "source": [
    "train , val = Data(train_in,train_out) , Data(val_in,val_out)\n",
    "\n",
    "train_dataloader = torch.utils.data.DataLoader(train,batch_size=32)\n",
    "val_dataloader = torch.utils.data.DataLoader(val, batch_size=32)"
   ]
  },
  {
   "cell_type": "markdown",
   "metadata": {},
   "source": [
    "<h3> Train models"
   ]
  },
  {
   "cell_type": "code",
   "execution_count": 90,
   "metadata": {},
   "outputs": [],
   "source": [
    "\n",
    "\n",
    "model = FirstModel()\n",
    "\n",
    "use_cuda = torch.cuda.is_available()\n",
    "device = torch.device(\"cuda\" if use_cuda else \"cpu\")\n",
    "\n",
    "criterion = nn.CrossEntropyLoss()\n",
    "optimizer = torch.optim.Adam(model.parameters())\n",
    "\n",
    "model = model.to(device)\n",
    "criterion = criterion.to(device)"
   ]
  },
  {
   "cell_type": "code",
   "execution_count": 92,
   "metadata": {},
   "outputs": [
    {
     "name": "stderr",
     "output_type": "stream",
     "text": [
      "100%|██████████| 110/110 [00:00<00:00, 442.21it/s]\n",
      "100%|██████████| 47/47 [00:00<00:00, 772.99it/s]\n"
     ]
    },
    {
     "name": "stdout",
     "output_type": "stream",
     "text": [
      "Epochs: 1 | Train Loss: 0.032      | Train Accuracy: 0.000      | Val Loss: 0.031      | Val Accuracy:0.000\n",
      "Save model because val loss improve loss 0.031\n"
     ]
    },
    {
     "name": "stderr",
     "output_type": "stream",
     "text": [
      "100%|██████████| 110/110 [00:00<00:00, 507.34it/s]\n",
      "100%|██████████| 47/47 [00:00<00:00, 1550.98it/s]\n"
     ]
    },
    {
     "name": "stdout",
     "output_type": "stream",
     "text": [
      "Epochs: 2 | Train Loss: 0.031      | Train Accuracy: 0.000      | Val Loss: 0.031      | Val Accuracy:0.000\n",
      "Save model because val loss improve loss 0.031\n"
     ]
    },
    {
     "name": "stderr",
     "output_type": "stream",
     "text": [
      "100%|██████████| 110/110 [00:00<00:00, 581.55it/s]\n",
      "100%|██████████| 47/47 [00:00<00:00, 1626.95it/s]\n"
     ]
    },
    {
     "name": "stdout",
     "output_type": "stream",
     "text": [
      "Epochs: 3 | Train Loss: 0.031      | Train Accuracy: 0.000      | Val Loss: 0.031      | Val Accuracy:0.000\n",
      "Save model because val loss improve loss 0.031\n"
     ]
    },
    {
     "name": "stderr",
     "output_type": "stream",
     "text": [
      "100%|██████████| 110/110 [00:00<00:00, 544.42it/s]\n",
      "100%|██████████| 47/47 [00:00<00:00, 976.97it/s]\n"
     ]
    },
    {
     "name": "stdout",
     "output_type": "stream",
     "text": [
      "Epochs: 4 | Train Loss: 0.031      | Train Accuracy: 0.000      | Val Loss: 0.030      | Val Accuracy:0.000\n",
      "Save model because val loss improve loss 0.030\n"
     ]
    },
    {
     "name": "stderr",
     "output_type": "stream",
     "text": [
      "100%|██████████| 110/110 [00:00<00:00, 539.50it/s]\n",
      "100%|██████████| 47/47 [00:00<00:00, 1022.48it/s]\n"
     ]
    },
    {
     "name": "stdout",
     "output_type": "stream",
     "text": [
      "Epochs: 5 | Train Loss: 0.031      | Train Accuracy: 0.000      | Val Loss: 0.030      | Val Accuracy:0.000\n",
      "Save model because val loss improve loss 0.030\n"
     ]
    },
    {
     "name": "stderr",
     "output_type": "stream",
     "text": [
      "100%|██████████| 110/110 [00:00<00:00, 507.92it/s]\n",
      "100%|██████████| 47/47 [00:00<00:00, 1011.20it/s]\n"
     ]
    },
    {
     "name": "stdout",
     "output_type": "stream",
     "text": [
      "Epochs: 6 | Train Loss: 0.030      | Train Accuracy: 0.000      | Val Loss: 0.030      | Val Accuracy:0.000\n",
      "Save model because val loss improve loss 0.030\n"
     ]
    },
    {
     "name": "stderr",
     "output_type": "stream",
     "text": [
      "100%|██████████| 110/110 [00:00<00:00, 502.63it/s]\n",
      "100%|██████████| 47/47 [00:00<00:00, 1520.59it/s]\n"
     ]
    },
    {
     "name": "stdout",
     "output_type": "stream",
     "text": [
      "Epochs: 7 | Train Loss: 0.030      | Train Accuracy: 0.000      | Val Loss: 0.030      | Val Accuracy:0.000\n",
      "Save model because val loss improve loss 0.030\n"
     ]
    },
    {
     "name": "stderr",
     "output_type": "stream",
     "text": [
      "100%|██████████| 110/110 [00:00<00:00, 620.05it/s]\n",
      "100%|██████████| 47/47 [00:00<00:00, 1363.20it/s]\n"
     ]
    },
    {
     "name": "stdout",
     "output_type": "stream",
     "text": [
      "Epochs: 8 | Train Loss: 0.030      | Train Accuracy: 0.000      | Val Loss: 0.030      | Val Accuracy:0.000\n",
      "Save model because val loss improve loss 0.030\n"
     ]
    },
    {
     "name": "stderr",
     "output_type": "stream",
     "text": [
      "100%|██████████| 110/110 [00:00<00:00, 558.65it/s]\n",
      "100%|██████████| 47/47 [00:00<00:00, 1684.17it/s]\n"
     ]
    },
    {
     "name": "stdout",
     "output_type": "stream",
     "text": [
      "Epochs: 9 | Train Loss: 0.030      | Train Accuracy: 0.000      | Val Loss: 0.030      | Val Accuracy:0.000\n",
      "Save model because val loss improve loss 0.030\n"
     ]
    },
    {
     "name": "stderr",
     "output_type": "stream",
     "text": [
      "100%|██████████| 110/110 [00:00<00:00, 510.64it/s]\n",
      "100%|██████████| 47/47 [00:00<00:00, 1387.31it/s]"
     ]
    },
    {
     "name": "stdout",
     "output_type": "stream",
     "text": [
      "Epochs: 10 | Train Loss: 0.030      | Train Accuracy: 0.000      | Val Loss: 0.030      | Val Accuracy:0.000\n",
      "Save model because val loss improve loss 0.030\n"
     ]
    },
    {
     "name": "stderr",
     "output_type": "stream",
     "text": [
      "\n"
     ]
    }
   ],
   "source": [
    "tolerance = 1e-10 \n",
    "\n",
    "from tqdm import tqdm\n",
    "min_val_loss=100000000000\n",
    "for epoch in range(10):\n",
    "  total_loss_train=0\n",
    "  total_acc_train=0\n",
    "  for x, y in tqdm(train_dataloader):\n",
    "    x = x.to(device)\n",
    "    y = y.to(device)\n",
    "\n",
    "    output = model(x.float())\n",
    "\n",
    "    batch_loss = criterion(output, y)\n",
    "    total_loss_train += batch_loss.item()\n",
    "    \n",
    "    acc = ((y-output).absolute()<tolerance).sum().item()\n",
    "\n",
    "    total_acc_train += acc\n",
    "\n",
    "    optimizer.zero_grad()\n",
    "    batch_loss.backward()\n",
    "    optimizer.step()\n",
    "  \n",
    "  total_loss_val=0\n",
    "  total_acc_val=0\n",
    "\n",
    "  with torch.no_grad():\n",
    "    for x, y in tqdm(val_dataloader):\n",
    "\n",
    "      x = x.to(device)\n",
    "      y = y.to(device)\n",
    "\n",
    "      output = model(x.float())\n",
    "\n",
    "      batch_loss = criterion(output, y)\n",
    "      total_loss_val += batch_loss.item()\n",
    "\n",
    "      \n",
    "      acc = ((y-output).absolute()<tolerance).sum().item()\n",
    "      total_acc_val += acc\n",
    "  \n",
    "  print(\n",
    "      f'Epochs: {epoch+1} | Train Loss: {total_loss_train / len(train):.3f}\\\n",
    "      | Train Accuracy: {total_acc_train/len(train):.3f}\\\n",
    "      | Val Loss: {total_loss_val/len(val):.3f}\\\n",
    "      | Val Accuracy:{total_acc_val/len(val):.3f}'\n",
    "  )\n",
    "\n",
    "  if min_val_loss>total_loss_val/len(val):\n",
    "    min_val_loss = total_loss_val/len(val)\n",
    "    torch.save(model.state_dict(), \"simplemodel.pt\")\n",
    "    print(f\"Save model because val loss improve loss {min_val_loss:.3f}\")\n"
   ]
  }
 ],
 "metadata": {
  "kernelspec": {
   "display_name": "Python 3.10.6 64-bit",
   "language": "python",
   "name": "python3"
  },
  "language_info": {
   "codemirror_mode": {
    "name": "ipython",
    "version": 3
   },
   "file_extension": ".py",
   "mimetype": "text/x-python",
   "name": "python",
   "nbconvert_exporter": "python",
   "pygments_lexer": "ipython3",
   "version": "3.10.6"
  },
  "orig_nbformat": 4,
  "vscode": {
   "interpreter": {
    "hash": "5aab3194219a4a2d4522a99581e558cc032063c8c9fe394b62b815d4a4112367"
   }
  }
 },
 "nbformat": 4,
 "nbformat_minor": 2
}
